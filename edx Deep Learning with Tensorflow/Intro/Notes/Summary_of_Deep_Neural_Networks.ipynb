{
  "nbformat": 4,
  "nbformat_minor": 0,
  "metadata": {
    "colab": {
      "name": "Summary of Deep Neural Networks.ipynb",
      "provenance": []
    },
    "kernelspec": {
      "name": "python3",
      "display_name": "Python 3"
    }
  },
  "cells": [
    {
      "cell_type": "markdown",
      "metadata": {
        "id": "mxhsAcc4jC75",
        "colab_type": "text"
      },
      "source": [
        "# **Summary of Deep neural Networks and their applications**\n",
        "\n",
        "## • Convolutional Neural Networks (or CNNs)\n",
        "## • Recurrent Neural Networks (or RNNs)\n",
        "## • Restricted Boltzmann Machines (or RBMs)\n",
        "## • Deep Belief Networks (or DBNs)\n",
        "## • Autoencoders\n",
        "\n",
        "\n",
        "\n"
      ]
    },
    {
      "cell_type": "markdown",
      "metadata": {
        "id": "zsR1EbJ7kjOV",
        "colab_type": "text"
      },
      "source": [
        "## Convolutional Neural Networks (or CNNs)\n",
        "\n",
        "- is a deep learning approach that learns directly from samples\n",
        "in a way that is much more effective than traditional Neural networks.\n",
        "\n",
        "- CNNs achieve this type of automatic feature selection and classification through multiple\n",
        "specific layers of sophisticated mathematical operations.\n",
        "\n",
        "- Applications:\n",
        "### Image Classification/Recognition\n",
        "  - Uses feature extraction; uses best features from images in a classification algorithm such as a shallow neural network.\n",
        "  - examples:  \n",
        "    - distinguishing animal photos \n",
        "    - digit recognition\n",
        "    - skin cancer classification \n",
        "\n",
        "  ### object detection\n",
        "  - for example real-time recognition of passengers in images captured by self-driving cars\n",
        "\n",
        "\n"
      ]
    },
    {
      "cell_type": "markdown",
      "metadata": {
        "id": "TJuKp6B1oASg",
        "colab_type": "text"
      },
      "source": [
        "## Recurrent Neural Networks (or RNNs)\n",
        "\n",
        "- Applications\n",
        " - tries to solve the problem of modeling sequential data such as stock market price\n",
        "  - sentiment analysis\n",
        "  - text prediction/translations\n",
        "  - speech-to-text"
      ]
    },
    {
      "cell_type": "markdown",
      "metadata": {
        "id": "PwmKEL8XoIj-",
        "colab_type": "text"
      },
      "source": [
        " ## Restricted Boltzmann Machines (or RBMs)\n",
        "\n",
        "- used to find the patterns in data in an unsupervised\n",
        "manner. \n",
        "\n",
        "- They are shallow neural nets that learn to reconstruct data by themselves. \n",
        "\n",
        "- They are very important models, because they can automatically extract meaningful features from a given input, without the need to label\n",
        "them\n",
        "\n",
        "- Better as building blocks for other networks such as Deep Belief networks rather than being its own independant network\n",
        "\n",
        "- Applications:\n",
        "  - feature extraction\n",
        "  - dimensionality reduction\n",
        "  - pattern recognition\n",
        "  - recommender systems\n",
        "  - handling missing values\n",
        "  - topic modeling.\n"
      ]
    },
    {
      "cell_type": "markdown",
      "metadata": {
        "id": "Pggoaa72oLli",
        "colab_type": "text"
      },
      "source": [
        "## Deep Belief Networks (or DBNs)\n",
        "\n",
        "- invented to solve an old problem in traditional artificial neural networks.\n",
        "\n",
        "- The back-propagation problem, that can often cause “local minima” or “vanishing gradients” issues in the learning process.\n",
        "\n",
        "- A DBN is built to solve this by the stacking of multiple RBMs.\n",
        "\n",
        "- very accurate discriminative classifier.\n",
        "- don’t need a big set of labeled data to train a Deep Belief Network\n",
        "- a small set works fine because feature extraction is unsupervised by a stack of RBMs.\n",
        "- Applications: \n",
        "  - generally used for classification, same as traditional MLPs.\n",
        "  - One of the most important applications of DBNs is image recognition."
      ]
    },
    {
      "cell_type": "markdown",
      "metadata": {
        "id": "9gEW78uroI4i",
        "colab_type": "text"
      },
      "source": [
        "##Autoencoders\n",
        "\n",
        "- Much like RBMs, Autoencoders were invented to address the issue of extracting desirable\n",
        "features.\n",
        "\n",
        "- much like RBMs, Autoencoders try\n",
        "to recreate a given input, but do so with a slightly different network architecture\n",
        "and learning method.\n",
        "\n",
        "- takes a set of unlabeled inputs, encodes them into short codes, and then uses those to reconstruct the original image, while extracting the most valuable information from the data.\n",
        "\n",
        "- Applications:\n",
        "  - employed in some of the largest deep learning applications, especially for unsupervised tasks.\n",
        "  - As the encoder part of the network, Autoencoders compress data from the input layer into a short code -- a method that can be used for “dimensionality reduction” tasks.\n",
        "  -in stacking multiple Autoencoder layers, the network learns multiple levels of representation at different levels of abstraction. \n",
        "    - For example, to detect a face in an image, therefore it can be used for feature extraction and image recognition"
      ]
    }
  ]
}