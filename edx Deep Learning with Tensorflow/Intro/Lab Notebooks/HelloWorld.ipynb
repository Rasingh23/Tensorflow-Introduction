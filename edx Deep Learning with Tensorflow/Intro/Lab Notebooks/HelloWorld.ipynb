{
  "nbformat": 4,
  "nbformat_minor": 0,
  "metadata": {
    "colab": {
      "name": "HelloWorld.ipynb",
      "provenance": []
    },
    "kernelspec": {
      "name": "python3",
      "display_name": "Python 3"
    }
  },
  "cells": [
    {
      "cell_type": "code",
      "metadata": {
        "id": "eF_Avk6dfEfC",
        "colab_type": "code",
        "colab": {
          "base_uri": "https://localhost:8080/",
          "height": 35
        },
        "outputId": "ec11f2f0-4765-44eb-a777-fe05dcebe4bb"
      },
      "source": [
        "import tensorflow as tf\n",
        "\n",
        "graph1 = tf.Graph()\n",
        "\n",
        "with graph1.as_default():\n",
        "    a = tf.constant([2], name = 'constant_a')\n",
        "    b = tf.constant([3], name = 'constant_b')\n",
        "    \n",
        "a\n",
        "\n",
        "# Printing the value of a\n",
        "sess = tf.Session(graph = graph1)\n",
        "result = sess.run(a)\n",
        "print(result)\n",
        "sess.close()\n",
        "\n"
      ],
      "execution_count": 4,
      "outputs": [
        {
          "output_type": "stream",
          "text": [
            "[2]\n"
          ],
          "name": "stdout"
        }
      ]
    },
    {
      "cell_type": "code",
      "metadata": {
        "id": "tDiQMb32jrDJ",
        "colab_type": "code",
        "colab": {}
      },
      "source": [
        "with graph1.as_default():\n",
        "    c = tf.add(a, b)\n",
        "    #c = a + b is also a way to define the sum of the terms"
      ],
      "execution_count": 0,
      "outputs": []
    },
    {
      "cell_type": "code",
      "metadata": {
        "id": "scfweh5ujvq0",
        "colab_type": "code",
        "colab": {}
      },
      "source": [
        "sess = tf.Session(graph = graph1)"
      ],
      "execution_count": 0,
      "outputs": []
    },
    {
      "cell_type": "code",
      "metadata": {
        "id": "axO4AKa2kHve",
        "colab_type": "code",
        "colab": {}
      },
      "source": [
        "#run session in with block to end session automatically instead of sess.close()\n",
        "with tf.Session(graph = graph1) as sess:\n",
        "    result = sess.run(c)\n",
        "    print(result)\n"
      ],
      "execution_count": 0,
      "outputs": []
    },
    {
      "cell_type": "code",
      "metadata": {
        "id": "i4KHg3nzwtSn",
        "colab_type": "code",
        "colab": {
          "base_uri": "https://localhost:8080/",
          "height": 433
        },
        "outputId": "4468f0bc-cfc9-44ff-9add-7de0ab9edfce"
      },
      "source": [
        "#layout of different dimensions\n",
        "\n",
        "graph2 = tf.Graph()\n",
        "with graph2.as_default():\n",
        "    Scalar = tf.constant(2)\n",
        "    Vector = tf.constant([5,6,2])\n",
        "    Matrix = tf.constant([[1,2,3],[2,3,4],[3,4,5]])\n",
        "    Tensor = tf.constant( [ [[1,2,3],[2,3,4],[3,4,5]] , [[4,5,6],[5,6,7],[6,7,8]] , [[7,8,9],[8,9,10],[9,10,11]] ] )\n",
        "with tf.Session(graph = graph2) as sess:\n",
        "    result = sess.run(Scalar)\n",
        "    print (\"Scalar (1 entry):\\n %s \\n\" % result)\n",
        "    result = sess.run(Vector)\n",
        "    print (\"Vector (3 entries) :\\n %s \\n\" % result)\n",
        "    result = sess.run(Matrix)\n",
        "    print (\"Matrix (3x3 entries):\\n %s \\n\" % result)\n",
        "    result = sess.run(Tensor)\n",
        "    print (\"Tensor (3x3x3 entries) :\\n %s \\n\" % result)"
      ],
      "execution_count": 8,
      "outputs": [
        {
          "output_type": "stream",
          "text": [
            "Scalar (1 entry):\n",
            " 2 \n",
            "\n",
            "Vector (3 entries) :\n",
            " [5 6 2] \n",
            "\n",
            "Matrix (3x3 entries):\n",
            " [[1 2 3]\n",
            " [2 3 4]\n",
            " [3 4 5]] \n",
            "\n",
            "Tensor (3x3x3 entries) :\n",
            " [[[ 1  2  3]\n",
            "  [ 2  3  4]\n",
            "  [ 3  4  5]]\n",
            "\n",
            " [[ 4  5  6]\n",
            "  [ 5  6  7]\n",
            "  [ 6  7  8]]\n",
            "\n",
            " [[ 7  8  9]\n",
            "  [ 8  9 10]\n",
            "  [ 9 10 11]]] \n",
            "\n"
          ],
          "name": "stdout"
        }
      ]
    },
    {
      "cell_type": "code",
      "metadata": {
        "id": "qkIJzg9IxLDe",
        "colab_type": "code",
        "colab": {
          "base_uri": "https://localhost:8080/",
          "height": 156
        },
        "outputId": "676ace09-46f6-44d4-e287-3d8f07ebbddf"
      },
      "source": [
        "#operations applied to matrices\n",
        "#shows that tf function and math operator produces same result\n",
        "graph3 = tf.Graph()\n",
        "with graph3.as_default():\n",
        "    Matrix_one = tf.constant([[1,2,3],[2,3,4],[3,4,5]])\n",
        "    Matrix_two = tf.constant([[2,2,2],[2,2,2],[2,2,2]])\n",
        "\n",
        "    add_1_operation = tf.add(Matrix_one, Matrix_two)\n",
        "    add_2_operation = Matrix_one + Matrix_two\n",
        "\n",
        "with tf.Session(graph =graph3) as sess:\n",
        "    result = sess.run(add_1_operation)\n",
        "    print (\"Defined using tensorflow function :\")\n",
        "    print(result)\n",
        "    result = sess.run(add_2_operation)\n",
        "    print (\"Defined using normal expressions :\")\n",
        "    print(result)"
      ],
      "execution_count": 9,
      "outputs": [
        {
          "output_type": "stream",
          "text": [
            "Defined using tensorflow function :\n",
            "[[3 4 5]\n",
            " [4 5 6]\n",
            " [5 6 7]]\n",
            "Defined using normal expressions :\n",
            "[[3 4 5]\n",
            " [4 5 6]\n",
            " [5 6 7]]\n"
          ],
          "name": "stdout"
        }
      ]
    },
    {
      "cell_type": "code",
      "metadata": {
        "id": "cRzkoHK4y3KJ",
        "colab_type": "code",
        "colab": {
          "base_uri": "https://localhost:8080/",
          "height": 69
        },
        "outputId": "46282fe2-f208-4750-f63a-58a939cd43ec"
      },
      "source": [
        "#matrix multiplication with tf.matmul\n",
        "graph4 = tf.Graph()\n",
        "with graph4.as_default():\n",
        "    Matrix_one = tf.constant([[2,3],[3,4]])\n",
        "    Matrix_two = tf.constant([[2,3],[3,4]])\n",
        "\n",
        "    mul_operation = tf.matmul(Matrix_one, Matrix_two)\n",
        "\n",
        "with tf.Session(graph = graph4) as sess:\n",
        "    result = sess.run(mul_operation)\n",
        "    print (\"Defined using tensorflow function :\")\n",
        "    print(result)"
      ],
      "execution_count": 10,
      "outputs": [
        {
          "output_type": "stream",
          "text": [
            "Defined using tensorflow function :\n",
            "[[13 18]\n",
            " [18 25]]\n"
          ],
          "name": "stdout"
        }
      ]
    },
    {
      "cell_type": "code",
      "metadata": {
        "id": "BM64bqwk18xp",
        "colab_type": "code",
        "colab": {
          "base_uri": "https://localhost:8080/",
          "height": 87
        },
        "outputId": "23edf256-9826-4d74-b6d7-b13ab18cae83"
      },
      "source": [
        "#Using Variables\n",
        "\n",
        "v = tf.Variable(0)\n",
        "update = tf.assign(v, v+1)\n",
        "#Variables must be initialized by running an initialization operation after having launched the graph\n",
        "init_op = tf.global_variables_initializer()\n",
        "#start session\n",
        "with tf.Session() as session:\n",
        "  #run initialization\n",
        "    session.run(init_op)\n",
        "    #print before value\n",
        "    print(session.run(v))\n",
        "    #update value and print updated value\n",
        "    for _ in range(3):\n",
        "        session.run(update)\n",
        "        print(session.run(v))"
      ],
      "execution_count": 11,
      "outputs": [
        {
          "output_type": "stream",
          "text": [
            "0\n",
            "1\n",
            "2\n",
            "3\n"
          ],
          "name": "stdout"
        }
      ]
    },
    {
      "cell_type": "code",
      "metadata": {
        "id": "wDP9BZY72skr",
        "colab_type": "code",
        "colab": {
          "base_uri": "https://localhost:8080/",
          "height": 191
        },
        "outputId": "83f89b5e-ae30-449a-d957-dc5fd6ddf2ce"
      },
      "source": [
        "#using Placeholders\n",
        "#Placeholders can be seen as \"holes\" in your model, \"holes\" which you will pass the data to, you can create them using tf.placeholder(datatype)\n",
        "\n",
        "a = tf.placeholder(tf.float32)\n",
        "b = a * 2\n",
        "#To pass the data into the model we call the session with \n",
        "#an extra argument feed_dict in which we should pass a dictionary with each placeholder name followed by its respective data\n",
        "with tf.Session() as sess:\n",
        "    result = sess.run(b,feed_dict={a:3.5})\n",
        "    print (result)\n",
        "#Since data in TensorFlow is passed in form of multidimensional arrays we can pass any kind of tensor\n",
        "dictionary={a: [ [ [1,2,3],[4,5,6],[7,8,9],[10,11,12] ] , [ [13,14,15],[16,17,18],[19,20,21],[22,23,24] ] ] }\n",
        "\n",
        "with tf.Session() as sess:\n",
        "    result = sess.run(b,feed_dict=dictionary)\n",
        "    print (result)"
      ],
      "execution_count": 12,
      "outputs": [
        {
          "output_type": "stream",
          "text": [
            "7.0\n",
            "[[[ 2.  4.  6.]\n",
            "  [ 8. 10. 12.]\n",
            "  [14. 16. 18.]\n",
            "  [20. 22. 24.]]\n",
            "\n",
            " [[26. 28. 30.]\n",
            "  [32. 34. 36.]\n",
            "  [38. 40. 42.]\n",
            "  [44. 46. 48.]]]\n"
          ],
          "name": "stdout"
        }
      ]
    },
    {
      "cell_type": "code",
      "metadata": {
        "id": "0h5EP97e3s-X",
        "colab_type": "code",
        "colab": {
          "base_uri": "https://localhost:8080/",
          "height": 52
        },
        "outputId": "a6afb3cc-9f14-4b1f-a19b-f38644a117c0"
      },
      "source": [
        "#Operations\n",
        "#Operations are nodes that represent the mathematical operations over the tensors on a graph. \n",
        "#These operations can be any kind of functions, like add and subtract tensor or maybe an activation function.\n",
        "#tf.constant, tf.matmul, tf.add, tf.nn.sigmoid are some of the operations in TensorFlow. \n",
        "#These are like functions in python but operate directly over tensors and each one does a specific thing.\n",
        "#Other operations can be easily found in: https://www.tensorflow.org/versions/r0.9/api_docs/python/index.html\n",
        "\n",
        "graph5 = tf.Graph()\n",
        "with graph5.as_default():\n",
        "    a = tf.constant([5])\n",
        "    b = tf.constant([2])\n",
        "    c = tf.add(a,b)\n",
        "    d = tf.subtract(a,b)\n",
        "\n",
        "with tf.Session(graph = graph5) as sess:\n",
        "    result = sess.run(c)\n",
        "    print ('c =: %s' % result)\n",
        "    result = sess.run(d)\n",
        "    print ('d =: %s' % result)"
      ],
      "execution_count": 13,
      "outputs": [
        {
          "output_type": "stream",
          "text": [
            "c =: [7]\n",
            "d =: [3]\n"
          ],
          "name": "stdout"
        }
      ]
    }
  ]
}